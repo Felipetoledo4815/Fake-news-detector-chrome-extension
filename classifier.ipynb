{
 "metadata": {
  "language_info": {
   "codemirror_mode": {
    "name": "ipython",
    "version": 3
   },
   "file_extension": ".py",
   "mimetype": "text/x-python",
   "name": "python",
   "nbconvert_exporter": "python",
   "pygments_lexer": "ipython3",
   "version": "3.8.8-final"
  },
  "orig_nbformat": 2,
  "kernelspec": {
   "name": "python3",
   "display_name": "Python 3",
   "language": "python"
  }
 },
 "nbformat": 4,
 "nbformat_minor": 2,
 "cells": [
  {
   "cell_type": "code",
   "execution_count": 161,
   "metadata": {},
   "outputs": [],
   "source": [
    "from sklearn.feature_extraction.text import CountVectorizer\n",
    "from sklearn.linear_model import LogisticRegression\n",
    "from sklearn.model_selection import train_test_split\n",
    "from sklearn.pipeline import Pipeline\n",
    "\n",
    "import seaborn as sns\n",
    "import pandas as pd\n",
    "import numpy as np\n",
    "\n",
    "from skl2onnx import convert_sklearn\n",
    "from skl2onnx.common.data_types import Int64TensorType\n",
    "import onnxruntime as rt"
   ]
  },
  {
   "cell_type": "code",
   "execution_count": 4,
   "metadata": {},
   "outputs": [],
   "source": [
    "fake = pd.read_csv('./dataset/Fake.csv', delimiter = ',')\n",
    "fake['label']= 0\n",
    "true = pd.read_csv('./dataset/True.csv', delimiter = ',')\n",
    "true['label']= 1"
   ]
  },
  {
   "cell_type": "code",
   "execution_count": 10,
   "metadata": {},
   "outputs": [],
   "source": [
    "# Join both datasets\n",
    "all_data = pd.concat([fake,true],axis=0)"
   ]
  },
  {
   "cell_type": "code",
   "execution_count": 12,
   "metadata": {},
   "outputs": [],
   "source": [
    "# Drop fields that we do not need\n",
    "data = all_data.drop(['text','subject','date'], axis=1)"
   ]
  },
  {
   "cell_type": "code",
   "execution_count": 14,
   "metadata": {},
   "outputs": [],
   "source": [
    "x = data['title']\n",
    "y = data['label']"
   ]
  },
  {
   "cell_type": "code",
   "execution_count": 17,
   "metadata": {},
   "outputs": [],
   "source": [
    "# Split x and y into training and test data\n",
    "x_train,x_test,y_train,y_test = train_test_split(x, y, test_size = 0.2)"
   ]
  },
  {
   "cell_type": "code",
   "execution_count": 32,
   "metadata": {},
   "outputs": [
    {
     "output_type": "stream",
     "name": "stdout",
     "text": [
      "Vocab size = 19576\nSize of training data = (35918, 19576)\nSize of test data = (8980, 19576)\n"
     ]
    }
   ],
   "source": [
    "vectorizer = CountVectorizer(lowercase=True, min_df=1, max_df=1.0, ngram_range=(1,1))\n",
    "x_train_vector = vectorizer.fit_transform(x_train)\n",
    "x_test_vector = vectorizer.transform(x_test)\n",
    "\n",
    "# Data information\n",
    "vocab = vectorizer.vocabulary_\n",
    "print(\"Vocab size = {}\".format(len(vocab)))\n",
    "print(\"Size of training data = {}\".format(x_train_vector.shape))\n",
    "print(\"Size of test data = {}\".format(x_test_vector.shape))"
   ]
  },
  {
   "cell_type": "code",
   "execution_count": 55,
   "metadata": {},
   "outputs": [
    {
     "output_type": "execute_result",
     "data": {
      "text/plain": [
       "LogisticRegression(C=1, max_iter=200)"
      ]
     },
     "metadata": {},
     "execution_count": 55
    }
   ],
   "source": [
    "classifier = LogisticRegression(fit_intercept=True, penalty=\"l2\", C=1, max_iter=200)\n",
    "classifier.fit(x_train_vector, y_train)"
   ]
  },
  {
   "cell_type": "code",
   "execution_count": 56,
   "metadata": {},
   "outputs": [
    {
     "output_type": "stream",
     "name": "stdout",
     "text": [
      "Training accuracy = 0.9886686341110307\nTest accuracy = 0.9650334075723831\n"
     ]
    }
   ],
   "source": [
    "# Performance on Training and Test data\n",
    "print(\"Training accuracy = {}\".format(classifier.score(x_train_vector, y_train)))\n",
    "print(\"Test accuracy = {}\".format(classifier.score(x_test_vector, y_test)))"
   ]
  },
  {
   "source": [
    "# Using a pipeline"
   ],
   "cell_type": "markdown",
   "metadata": {}
  },
  {
   "cell_type": "code",
   "execution_count": 140,
   "metadata": {},
   "outputs": [],
   "source": [
    "pipeline = Pipeline([('vectorizer', CountVectorizer()), ('classifier', LogisticRegression(fit_intercept=True, penalty=\"l2\", C=1, max_iter=200))])"
   ]
  },
  {
   "cell_type": "code",
   "execution_count": 141,
   "metadata": {},
   "outputs": [
    {
     "output_type": "execute_result",
     "data": {
      "text/plain": [
       "Pipeline(steps=[('vectorizer', CountVectorizer()),\n",
       "                ('classifier', LogisticRegression(C=1, max_iter=200))])"
      ]
     },
     "metadata": {},
     "execution_count": 141
    }
   ],
   "source": [
    "pipeline.fit(x_train, y_train)"
   ]
  },
  {
   "source": [
    "# Save pipeline in .onnx extension"
   ],
   "cell_type": "markdown",
   "metadata": {}
  },
  {
   "cell_type": "code",
   "execution_count": 187,
   "metadata": {},
   "outputs": [],
   "source": [
    "from skl2onnx.common.data_types import StringTensorType"
   ]
  },
  {
   "cell_type": "code",
   "execution_count": 188,
   "metadata": {},
   "outputs": [
    {
     "output_type": "stream",
     "name": "stderr",
     "text": [
      "/Data/miniconda3/envs/ai/lib/python3.8/site-packages/skl2onnx/operator_converters/text_vectoriser.py:182: UserWarning: Converter for TfidfVectorizer will use scikit-learn regular expression by default in version 1.6.\n  warnings.warn(\"Converter for TfidfVectorizer will use \"\n/Data/miniconda3/envs/ai/lib/python3.8/site-packages/skl2onnx/common/_container.py:592: UserWarning: Unable to find operator 'Tokenizer' in domain 'com.microsoft' in ONNX, op_version is forced to 1.\n  warnings.warn(\n"
     ]
    }
   ],
   "source": [
    "initial_type = [('StringTensorType', StringTensorType([None]))]\n",
    "onx = convert_sklearn(pipeline, initial_types=initial_type)\n",
    "\n",
    "with open(\"./model/pipeline.onnx\", \"wb\") as f:\n",
    "    f.write(onx.SerializeToString())"
   ]
  },
  {
   "cell_type": "code",
   "execution_count": 178,
   "metadata": {},
   "outputs": [],
   "source": [
    "sess = rt.InferenceSession(\"./model/pipeline.onnx\")\n",
    "input_name = sess.get_inputs()[0].name\n",
    "label_name = sess.get_outputs()[0].name\n",
    "\n",
    "pred_onx = sess.run([label_name], {input_name: x_test.to_list()})[0]"
   ]
  },
  {
   "cell_type": "code",
   "execution_count": 179,
   "metadata": {},
   "outputs": [
    {
     "output_type": "execute_result",
     "data": {
      "text/plain": [
       "array([1, 1, 1, ..., 1, 1, 0], dtype=int64)"
      ]
     },
     "metadata": {},
     "execution_count": 179
    }
   ],
   "source": [
    "pred_onx"
   ]
  },
  {
   "source": [
    "# Save classifier in .onnx extension"
   ],
   "cell_type": "markdown",
   "metadata": {}
  },
  {
   "cell_type": "code",
   "execution_count": 129,
   "metadata": {},
   "outputs": [],
   "source": [
    "initial_type = [('int64_input', Int64TensorType([None,19576]))]\n",
    "onx = convert_sklearn(classifier, initial_types=initial_type)\n",
    "with open(\"./model/classifier.onnx\", \"wb\") as f:\n",
    "    f.write(onx.SerializeToString())"
   ]
  },
  {
   "cell_type": "code",
   "execution_count": 130,
   "metadata": {},
   "outputs": [],
   "source": [
    "sess = rt.InferenceSession(\"./model/classifier.onnx\")\n",
    "input_name = sess.get_inputs()[0].name\n",
    "label_name = sess.get_outputs()[0].name\n",
    "\n",
    "pred_onx = sess.run([label_name], {input_name: x_test_vector.toarray().astype(np.int64)})[0]"
   ]
  }
 ]
}